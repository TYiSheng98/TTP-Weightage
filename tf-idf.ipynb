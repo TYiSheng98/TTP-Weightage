{
 "cells": [
  {
   "cell_type": "code",
   "execution_count": 1,
   "id": "beneficial-subscriber",
   "metadata": {},
   "outputs": [],
   "source": [
    "import os\n",
    "import pandas as pd\n",
    "import json\n",
    "import numpy as np\n"
   ]
  },
  {
   "cell_type": "code",
   "execution_count": 2,
   "id": "fancy-summer",
   "metadata": {},
   "outputs": [],
   "source": [
    "prj_root = os.getcwd()\n",
    "dataset_folderpath= os.path.join(prj_root,'mitre_nav_reports')\n",
    "ttp_list_corpus=[]"
   ]
  },
  {
   "cell_type": "code",
   "execution_count": 3,
   "id": "first-farming",
   "metadata": {
    "tags": []
   },
   "outputs": [],
   "source": [
    "for root, dirs, files in os.walk(dataset_folderpath):\n",
    "    for filename in files:\n",
    "        abs_filepath = os.path.join(root,filename)\n",
    "        # print(abs_filepath)\n",
    "        with open(abs_filepath,'r') as f:\n",
    "            data = data = json.load(f)\n",
    "\n",
    "        df = pd.DataFrame(data['techniques'])\n",
    "        # df = df[df['score'].notna()]\n",
    "        df = df.loc[df['score'].isin([1.0])]\n",
    "        ttp_list= df['techniqueID'].tolist()\n",
    "        for ttp in ttp_list:\n",
    "            ttp_list_corpus.append(ttp)\n",
    "        \n",
    "        # ttp_list_corpus.append(' '.join(ttp_list))\n",
    "    \n",
    "#     break"
   ]
  },
  {
   "cell_type": "code",
   "execution_count": 4,
   "id": "statutory-intro",
   "metadata": {},
   "outputs": [],
   "source": [
    "# src:https://github.com/kavgan/nlp-in-practice/blob/master/tf-idf/Keyword%20Extraction%20with%20TF-IDF%20and%20SKlearn.ipynb\n",
    "from sklearn.feature_extraction.text import CountVectorizer\n",
    "#instantiate CountVectorizer() \n",
    "cv=CountVectorizer(analyzer=lambda d: d.split(' ')) \n",
    "word_count_vector=cv.fit_transform(ttp_list_corpus)"
   ]
  },
  {
   "cell_type": "code",
   "execution_count": 5,
   "id": "center-cradle",
   "metadata": {
    "tags": []
   },
   "outputs": [],
   "source": [
    "#freq_count of all ttps\n",
    "freq_count_dict = dict(zip(cv.get_feature_names(),word_count_vector.toarray().sum(axis=0)))"
   ]
  },
  {
   "cell_type": "code",
   "execution_count": 6,
   "id": "universal-psychiatry",
   "metadata": {
    "tags": []
   },
   "outputs": [
    {
     "data": {
      "text/plain": [
       "TfidfTransformer()"
      ]
     },
     "execution_count": 6,
     "metadata": {},
     "output_type": "execute_result"
    }
   ],
   "source": [
    "from sklearn.feature_extraction.text import TfidfTransformer\n",
    "\n",
    "tfidf_transformer=TfidfTransformer(smooth_idf=True,use_idf=True)\n",
    "tfidf_transformer.fit(word_count_vector)\n",
    "# tfidf_transformer.idf_"
   ]
  },
  {
   "cell_type": "code",
   "execution_count": 7,
   "id": "welsh-situation",
   "metadata": {},
   "outputs": [],
   "source": [
    "def sort_coo(coo_matrix):\n",
    "    tuples = zip(coo_matrix.col, coo_matrix.data)\n",
    "    return sorted(tuples, key=lambda x: (x[1], x[0]), reverse=True)\n",
    "\n",
    "def extract_topn_from_vector(feature_names, sorted_items, topn=10):\n",
    "    \"\"\"get the feature names and tf-idf score of top n items\"\"\"\n",
    "    \n",
    "    #use only topn items from vector\n",
    "    sorted_items = sorted_items[:topn]\n",
    "\n",
    "    score_vals = []\n",
    "    feature_vals = []\n",
    "\n",
    "    for idx, score in sorted_items:\n",
    "        fname = feature_names[idx]\n",
    "        \n",
    "        #keep track of feature name and its corresponding score\n",
    "        score_vals.append(round(score, 3))\n",
    "        feature_vals.append(feature_names[idx])\n",
    "\n",
    "    #create a tuples of feature,score\n",
    "    #results = zip(feature_vals,score_vals)\n",
    "    results= {}\n",
    "    for idx in range(len(feature_vals)):\n",
    "        results[feature_vals[idx]]=score_vals[idx]\n",
    "    \n",
    "    return results"
   ]
  },
  {
   "cell_type": "code",
   "execution_count": 8,
   "id": "configured-hearts",
   "metadata": {
    "tags": []
   },
   "outputs": [],
   "source": [
    "# you only needs to do this once\n",
    "feature_names=cv.get_feature_names()\n",
    "\n",
    "#generate tf-idf for the given document\n",
    "tf_idf_vector=tfidf_transformer.transform(cv.transform([' '.join(ttp_list_corpus)]))\n",
    "\n",
    "#sort the tf-idf vectors by descending order of scores\n",
    "sorted_items=sort_coo(tf_idf_vector.tocoo())\n",
    "\n",
    "#extract only the top n; n here is 10\n",
    "keywords=extract_topn_from_vector(feature_names,sorted_items,len(feature_names))\n",
    "\n",
    "\n",
    "# for k in keywords:\n",
    "#     print(k,keywords[k])"
   ]
  },
  {
   "cell_type": "code",
   "execution_count": 119,
   "id": "cloudy-coating",
   "metadata": {
    "tags": []
   },
   "outputs": [],
   "source": [
    "df1 = pd.DataFrame([keywords])\n",
    "df1 = df1.T\n",
    "df1.index.name = 'TTP'\n",
    "df1.columns = ['weight']\n",
    "df1\n",
    "# df1.to_csv (r'tf-tdf.csv', index = True, header=True)"
   ]
  },
  {
   "cell_type": "code",
   "execution_count": 10,
   "id": "elegant-catholic",
   "metadata": {
    "tags": []
   },
   "outputs": [
    {
     "data": {
      "text/plain": [
       "6792"
      ]
     },
     "execution_count": 10,
     "metadata": {},
     "output_type": "execute_result"
    }
   ],
   "source": [
    "ttp_list_corpus.sort()\n",
    "len(ttp_list_corpus)"
   ]
  },
  {
   "cell_type": "code",
   "execution_count": 106,
   "id": "handed-automation",
   "metadata": {
    "tags": []
   },
   "outputs": [],
   "source": [
    "df3 = pd.DataFrame(ttp_list_corpus,\n",
    "               columns =['TTP'])\n",
    "s = df3.value_counts(normalize=True).sort_index()\n",
    "pd11 = pd.DataFrame(s).reset_index()\n",
    "pd11.columns = ['TTP', 'weight']\n",
    "# s= s.sort_values(ascending=False)\n",
    "pd11.sort_values(by=['weight'],ascending=False, inplace=True)\n",
    "pd11\n",
    "# pd11.to_csv('freq_percentage.csv',index=False)"
   ]
  },
  {
   "cell_type": "code",
   "execution_count": 62,
   "id": "cosmetic-aberdeen",
   "metadata": {
    "collapsed": true,
    "jupyter": {
     "outputs_hidden": true
    },
    "tags": []
   },
   "outputs": [
    {
     "data": {
      "text/html": [
       "<div>\n",
       "<style scoped>\n",
       "    .dataframe tbody tr th:only-of-type {\n",
       "        vertical-align: middle;\n",
       "    }\n",
       "\n",
       "    .dataframe tbody tr th {\n",
       "        vertical-align: top;\n",
       "    }\n",
       "\n",
       "    .dataframe thead th {\n",
       "        text-align: right;\n",
       "    }\n",
       "</style>\n",
       "<table border=\"1\" class=\"dataframe\">\n",
       "  <thead>\n",
       "    <tr style=\"text-align: right;\">\n",
       "      <th></th>\n",
       "      <th>TTP</th>\n",
       "      <th>counts</th>\n",
       "    </tr>\n",
       "  </thead>\n",
       "  <tbody>\n",
       "    <tr>\n",
       "      <th>0</th>\n",
       "      <td>T1001</td>\n",
       "      <td>5</td>\n",
       "    </tr>\n",
       "    <tr>\n",
       "      <th>1</th>\n",
       "      <td>T1001.001</td>\n",
       "      <td>11</td>\n",
       "    </tr>\n",
       "    <tr>\n",
       "      <th>2</th>\n",
       "      <td>T1001.002</td>\n",
       "      <td>8</td>\n",
       "    </tr>\n",
       "    <tr>\n",
       "      <th>3</th>\n",
       "      <td>T1001.003</td>\n",
       "      <td>11</td>\n",
       "    </tr>\n",
       "    <tr>\n",
       "      <th>4</th>\n",
       "      <td>T1003</td>\n",
       "      <td>6</td>\n",
       "    </tr>\n",
       "    <tr>\n",
       "      <th>...</th>\n",
       "      <td>...</td>\n",
       "      <td>...</td>\n",
       "    </tr>\n",
       "    <tr>\n",
       "      <th>335</th>\n",
       "      <td>T1614.001</td>\n",
       "      <td>18</td>\n",
       "    </tr>\n",
       "    <tr>\n",
       "      <th>336</th>\n",
       "      <td>T1615</td>\n",
       "      <td>1</td>\n",
       "    </tr>\n",
       "    <tr>\n",
       "      <th>337</th>\n",
       "      <td>T1620</td>\n",
       "      <td>5</td>\n",
       "    </tr>\n",
       "    <tr>\n",
       "      <th>338</th>\n",
       "      <td>T1622</td>\n",
       "      <td>3</td>\n",
       "    </tr>\n",
       "    <tr>\n",
       "      <th>339</th>\n",
       "      <td>T1647</td>\n",
       "      <td>1</td>\n",
       "    </tr>\n",
       "  </tbody>\n",
       "</table>\n",
       "<p>340 rows × 2 columns</p>\n",
       "</div>"
      ],
      "text/plain": [
       "           TTP  counts\n",
       "0        T1001       5\n",
       "1    T1001.001      11\n",
       "2    T1001.002       8\n",
       "3    T1001.003      11\n",
       "4        T1003       6\n",
       "..         ...     ...\n",
       "335  T1614.001      18\n",
       "336      T1615       1\n",
       "337      T1620       5\n",
       "338      T1622       3\n",
       "339      T1647       1\n",
       "\n",
       "[340 rows x 2 columns]"
      ]
     },
     "execution_count": 62,
     "metadata": {},
     "output_type": "execute_result"
    }
   ],
   "source": [
    "df4 = df3.groupby(by=[\"TTP\"]).size().reset_index(name='counts')\n",
    "df4"
   ]
  },
  {
   "cell_type": "code",
   "execution_count": 103,
   "id": "alleged-collector",
   "metadata": {
    "tags": []
   },
   "outputs": [],
   "source": [
    "# src:https://www.geeksforgeeks.org/data-normalization-with-pandas/\n",
    "# Using The maximum absolute scaling\n",
    "# copy the data\n",
    "df_max_scaled = df4.copy()\n",
    "# df_max_scaled = df_max_scaled.drop(columns=['TTP'])\n",
    "df_max_scaled\n",
    "# apply normalization techniques\n",
    "\n",
    "df_max_scaled['weight'] = df_max_scaled['counts']  / df_max_scaled['counts'] .abs().max()\n",
    "      \n",
    "# view normalized data\n",
    "df_max_scaled= df_max_scaled.sort_values('weight',ascending=False)\n",
    "# df_max_scaled.to_csv('maximum_absolute_scaling.csv',index=False)"
   ]
  },
  {
   "cell_type": "code",
   "execution_count": 101,
   "id": "labeled-lithuania",
   "metadata": {},
   "outputs": [],
   "source": [
    "# Using The min-max feature scaling\n",
    "# copy the data\n",
    "df_min_max_scaled = df4.copy()\n",
    "  \n",
    "# apply normalization techniques\n",
    "df_min_max_scaled['NORM'] = ((df_min_max_scaled['counts']- df_min_max_scaled['counts'].min()) / (df_min_max_scaled['counts'].max() - df_min_max_scaled['counts'].min()))   \n",
    "  \n",
    "# view normalized data\n",
    "df_min_max_scaled=df_min_max_scaled.sort_values('NORM',ascending=False)\n",
    "# df_min_max_scaled.to_csv(' min_max_scaling.csv',index=False)"
   ]
  },
  {
   "cell_type": "code",
   "execution_count": null,
   "id": "exempt-century",
   "metadata": {},
   "outputs": [],
   "source": []
  }
 ],
 "metadata": {
  "kernelspec": {
   "display_name": "Python 3",
   "language": "python",
   "name": "python3"
  },
  "language_info": {
   "codemirror_mode": {
    "name": "ipython",
    "version": 3
   },
   "file_extension": ".py",
   "mimetype": "text/x-python",
   "name": "python",
   "nbconvert_exporter": "python",
   "pygments_lexer": "ipython3",
   "version": "3.8.4rc1"
  }
 },
 "nbformat": 4,
 "nbformat_minor": 5
}
